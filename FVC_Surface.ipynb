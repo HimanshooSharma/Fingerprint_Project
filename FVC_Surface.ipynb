{
 "cells": [
  {
   "cell_type": "code",
   "execution_count": 1,
   "metadata": {},
   "outputs": [],
   "source": [
    "import os\n",
    "import cv2\n",
    "import numpy as np"
   ]
  },
  {
   "cell_type": "code",
   "execution_count": 2,
   "metadata": {},
   "outputs": [],
   "source": [
    "ov = r'in\\fp.jpg'\n",
    "bg = r'in\\surface.jpg'\n",
    "out = r'out\\out.jpg'"
   ]
  },
  {
   "cell_type": "code",
   "execution_count": 3,
   "metadata": {},
   "outputs": [
    {
     "name": "stdout",
     "output_type": "stream",
     "text": [
      "421 640 3\n"
     ]
    }
   ],
   "source": [
    "assert os.path.isfile(bg)\n",
    "assert os.path.isfile(ov)\n",
    "background = cv2.imread(bg)\n",
    "b_h, b_w, b_ch = background.shape\n",
    "print(b_h, b_w, b_ch)"
   ]
  },
  {
   "cell_type": "code",
   "execution_count": 4,
   "metadata": {},
   "outputs": [
    {
     "name": "stdout",
     "output_type": "stream",
     "text": [
      "437 640 3\n"
     ]
    }
   ],
   "source": [
    "overlay = cv2.imread(ov)\n",
    "o_h, o_w, o_ch = overlay.shape\n",
    "print(o_h, o_w, o_ch)"
   ]
  },
  {
   "cell_type": "code",
   "execution_count": 8,
   "metadata": {},
   "outputs": [],
   "source": [
    "cv2.imshow(\"Show by CV2\",background)\n",
    "cv2.waitKey(0)\n",
    "cv2.destroyAllWindows()"
   ]
  },
  {
   "cell_type": "code",
   "execution_count": 7,
   "metadata": {},
   "outputs": [],
   "source": [
    "cv2.imshow(\"Show by CV2\",overlay)\n",
    "cv2.waitKey(0)\n",
    "cv2.destroyAllWindows()"
   ]
  },
  {
   "cell_type": "code",
   "execution_count": 9,
   "metadata": {},
   "outputs": [],
   "source": [
    "#imgScale = W/b_w\n",
    "new_b_h,new_b_w = int(512), int(512)\n",
    "new_background = cv2.resize(background,(new_b_w, new_b_h))\n",
    "cv2.imshow(\"Show by CV2\",new_background)\n",
    "cv2.waitKey(0)\n",
    "cv2.destroyAllWindows()\n",
    "#cv2.imwrite(\"resizeimg_new_background.jpg\",new_background)"
   ]
  },
  {
   "cell_type": "code",
   "execution_count": 10,
   "metadata": {},
   "outputs": [],
   "source": [
    "W = 500\n",
    "#oriimg = cv2.imread(filename,cv2.CV_LOAD_IMAGE_COLOR)\n",
    "\n",
    "imgScale = W/o_w\n",
    "new_o_h,new_o_w = int(o_h*imgScale), int(o_w*imgScale)\n",
    "new_overlay = cv2.resize(overlay,(new_o_w, new_o_h))\n",
    "cv2.imshow(\"Show by CV2\",new_overlay)\n",
    "cv2.waitKey(0)\n",
    "cv2.destroyAllWindows()\n",
    "#cv2.imwrite(\"resizeimg_new_overlay.jpg\",new_overlay)"
   ]
  },
  {
   "cell_type": "code",
   "execution_count": 11,
   "metadata": {},
   "outputs": [
    {
     "name": "stdout",
     "output_type": "stream",
     "text": [
      "512 512\n",
      "341 500\n",
      "{161: 502, 2: 502}\n"
     ]
    }
   ],
   "source": [
    "square= np.zeros((new_b_h, new_b_w, b_ch), np.uint8)\n",
    "square.fill(255)\n",
    "x= new_b_w\n",
    "y= new_b_h\n",
    "print (new_b_h,new_b_w)\n",
    "print (new_o_h,new_o_w)\n",
    "offset =10\n",
    "broad = {int(y - new_o_h) - offset:int(y)- offset, int(x-new_o_w)- offset:int(x)- offset}\n",
    "print(broad)\n",
    "\n",
    "square[int(y - new_o_h) - offset:int(y)- offset, int(x-new_o_w)- offset:int(x)- offset] = new_overlay"
   ]
  },
  {
   "cell_type": "code",
   "execution_count": 18,
   "metadata": {},
   "outputs": [],
   "source": [
    "square = np.rot90(square)"
   ]
  },
  {
   "cell_type": "code",
   "execution_count": 19,
   "metadata": {},
   "outputs": [],
   "source": [
    "if 1: #OVERLAY\n",
    "    #OPACITY = 0.9\n",
    "    added_image = cv2.addWeighted(new_background,0.5,square,0.5,3)\n",
    "    cv2.imshow('adjusted', added_image)  \n",
    "    cv2.waitKey()\n",
    "    cv2.destroyAllWindows()\n",
    "    #cv2.imwrite(out, added_image)"
   ]
  },
  {
   "cell_type": "code",
   "execution_count": null,
   "metadata": {},
   "outputs": [],
   "source": []
  },
  {
   "cell_type": "code",
   "execution_count": null,
   "metadata": {},
   "outputs": [],
   "source": []
  }
 ],
 "metadata": {
  "kernelspec": {
   "display_name": "Python 3",
   "language": "python",
   "name": "python3"
  },
  "language_info": {
   "codemirror_mode": {
    "name": "ipython",
    "version": 3
   },
   "file_extension": ".py",
   "mimetype": "text/x-python",
   "name": "python",
   "nbconvert_exporter": "python",
   "pygments_lexer": "ipython3",
   "version": "3.8.5"
  }
 },
 "nbformat": 4,
 "nbformat_minor": 4
}
